{
 "cells": [
  {
   "cell_type": "markdown",
   "id": "a3a1d733-faf7-4013-866d-80e3207b551b",
   "metadata": {},
   "source": [
    "# Functions"
   ]
  },
  {
   "cell_type": "markdown",
   "id": "7760199e-bcc2-49bf-9b00-09e005936ff5",
   "metadata": {},
   "source": [
    "<h2>Quiz on Functions</h2>\n"
   ]
  },
  {
   "cell_type": "markdown",
   "id": "499b7e5c-b87d-4fc3-84a1-42bd1766d646",
   "metadata": {},
   "source": [
    "Come up with a function that divides the first input by the second input:\n"
   ]
  },
  {
   "cell_type": "code",
   "execution_count": 2,
   "id": "8e14df50-b9e3-402f-8011-c0524fdd4b42",
   "metadata": {},
   "outputs": [],
   "source": [
    "def div(a, b):\n",
    "    return a/b"
   ]
  },
  {
   "cell_type": "markdown",
   "id": "97b9c729-0eb2-4eee-b9a1-6c82e3b92f11",
   "metadata": {},
   "source": [
    "Use the function <code>con</code> for the following question.\n"
   ]
  },
  {
   "cell_type": "code",
   "execution_count": 4,
   "id": "a54d3917-9ae1-47bd-b81e-884969d887de",
   "metadata": {},
   "outputs": [],
   "source": [
    "def con(a, b):\n",
    "    return(a + b)"
   ]
  },
  {
   "cell_type": "markdown",
   "id": "2b785426-bc1e-4cf7-a0c9-3e92589a4b34",
   "metadata": {},
   "source": [
    "Can the <code>con</code> function we defined before be used to add two integers or strings?\n"
   ]
  },
  {
   "cell_type": "code",
   "execution_count": 5,
   "id": "8de0acd4-2fa6-4612-9ba2-e035f7f1e9ce",
   "metadata": {},
   "outputs": [
    {
     "name": "stdout",
     "output_type": "stream",
     "text": [
      "2\n",
      "11\n"
     ]
    }
   ],
   "source": [
    "# yes\n",
    "print(con(1, 1))\n",
    "print(con('1', '1'))"
   ]
  },
  {
   "cell_type": "code",
   "execution_count": null,
   "id": "e39dad74-98b8-4de2-bb82-da9eb30159bf",
   "metadata": {},
   "outputs": [],
   "source": []
  }
 ],
 "metadata": {
  "kernelspec": {
   "display_name": "Python",
   "language": "python",
   "name": "conda-env-python-py"
  },
  "language_info": {
   "codemirror_mode": {
    "name": "ipython",
    "version": 3
   },
   "file_extension": ".py",
   "mimetype": "text/x-python",
   "name": "python",
   "nbconvert_exporter": "python",
   "pygments_lexer": "ipython3",
   "version": "3.6.13"
  }
 },
 "nbformat": 4,
 "nbformat_minor": 5
}
