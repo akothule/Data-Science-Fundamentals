{
 "cells": [
  {
   "cell_type": "markdown",
   "id": "6b588868-4dc5-44a5-afe0-fa0c34abd75d",
   "metadata": {},
   "source": [
    "# Loops"
   ]
  },
  {
   "cell_type": "markdown",
   "id": "4e22b26f-b4a7-445d-a9e3-0b761fad6a7f",
   "metadata": {},
   "source": [
    "<h2 id=\"quiz\">Quiz on Loops</h2>\n"
   ]
  },
  {
   "cell_type": "markdown",
   "id": "fbcef1c5-71a9-4be4-b0ab-69fabb57fb09",
   "metadata": {},
   "source": [
    "Write a <code>for</code> loop the prints out all the element between <b>-5</b> and <b>5</b> using the range function.\n"
   ]
  },
  {
   "cell_type": "code",
   "execution_count": 2,
   "id": "3caa0852-e7e3-4453-a570-9e4e2215f10a",
   "metadata": {},
   "outputs": [
    {
     "name": "stdout",
     "output_type": "stream",
     "text": [
      "-4\n",
      "-3\n",
      "-2\n",
      "-1\n",
      "0\n",
      "1\n",
      "2\n",
      "3\n",
      "4\n"
     ]
    }
   ],
   "source": [
    "for i in range(-4, 5):\n",
    "    print(i)"
   ]
  },
  {
   "cell_type": "markdown",
   "id": "41dabe36-5b43-40c5-9b67-daea5451fe91",
   "metadata": {},
   "source": [
    "Print the elements of the following list: <code>Genres=\\[ 'rock', 'R\\&B', 'Soundtrack', 'R\\&B', 'soul', 'pop']</code>\n",
    "Make sure you follow Python conventions.\n"
   ]
  },
  {
   "cell_type": "code",
   "execution_count": 3,
   "id": "56698871-c440-4d1d-ad61-675d5d6931a1",
   "metadata": {},
   "outputs": [
    {
     "name": "stdout",
     "output_type": "stream",
     "text": [
      "rock\n",
      "R&B\n",
      "Soundtrack\n",
      "R&B\n",
      "soul\n",
      "pop\n"
     ]
    }
   ],
   "source": [
    "Genres=[ 'rock', 'R&B', 'Soundtrack', 'R&B', 'soul', 'pop']\n",
    "for Genre in Genres:\n",
    "    print(Genre)"
   ]
  },
  {
   "cell_type": "markdown",
   "id": "8ca0aa08-35ff-41bd-9ae3-684992e52144",
   "metadata": {},
   "source": [
    "Write a for loop that prints out the following list: <code>squares=\\['red', 'yellow', 'green', 'purple', 'blue']</code>\n"
   ]
  },
  {
   "cell_type": "code",
   "execution_count": 4,
   "id": "fc049d5e-938f-4a60-8d96-72642f67173c",
   "metadata": {},
   "outputs": [
    {
     "name": "stdout",
     "output_type": "stream",
     "text": [
      "red\n",
      "yellow\n",
      "green\n",
      "purple\n",
      "blue\n"
     ]
    }
   ],
   "source": [
    "squares=['red', 'yellow', 'green', 'purple', 'blue']\n",
    "for square in squares:\n",
    "    print(square)"
   ]
  },
  {
   "cell_type": "markdown",
   "id": "2bfeeccb-5b43-4c70-9530-bd0b01aa9de4",
   "metadata": {},
   "source": [
    "Write a while loop to display the values of the Rating of an album playlist stored in the list <code>PlayListRatings</code>. If the score is less than 6, exit the loop. The list <code>PlayListRatings</code> is given by: <code>PlayListRatings = \\[10, 9.5, 10, 8, 7.5, 5, 10, 10]</code>\n"
   ]
  },
  {
   "cell_type": "code",
   "execution_count": 7,
   "id": "75b12b6f-5e2c-4e88-8975-e18348c61beb",
   "metadata": {},
   "outputs": [
    {
     "name": "stdout",
     "output_type": "stream",
     "text": [
      "10\n",
      "9.5\n",
      "10\n",
      "8\n",
      "7.5\n"
     ]
    }
   ],
   "source": [
    "PlayListRatings = [10, 9.5, 10, 8, 7.5, 5, 10, 10]\n",
    "i = 0\n",
    "while i < len(PlayListRatings) and PlayListRatings[i] >= 6:\n",
    "    print(PlayListRatings[i])\n",
    "    i = i + 1"
   ]
  },
  {
   "cell_type": "markdown",
   "id": "fd985c1d-4edb-4f38-810a-1ee6021438e9",
   "metadata": {},
   "source": [
    "Write a while loop to copy the strings <code>'orange'</code> of the list <code>squares</code> to the list <code>new_squares</code>. Stop and exit the loop if the value on the list is not <code>'orange'</code>:\n"
   ]
  },
  {
   "cell_type": "code",
   "execution_count": 1,
   "id": "467aa0d6-d274-41e8-84d2-92a44e51671f",
   "metadata": {},
   "outputs": [],
   "source": [
    "squares = ['orange', 'orange', 'purple', 'blue ', 'orange']\n",
    "new_squares = []"
   ]
  },
  {
   "cell_type": "code",
   "execution_count": 2,
   "id": "d3c90bdd-e9d6-437d-a7e6-79acae77aa8a",
   "metadata": {},
   "outputs": [
    {
     "name": "stdout",
     "output_type": "stream",
     "text": [
      "['orange', 'orange']\n"
     ]
    }
   ],
   "source": [
    "i = 0\n",
    "while(i < len(squares) and squares[i] == 'orange'):\n",
    "    new_squares.append(squares[i])\n",
    "    i = i + 1\n",
    "print(new_squares)"
   ]
  },
  {
   "cell_type": "code",
   "execution_count": null,
   "id": "5d6fa4d7-ccca-4768-b6cd-934652db5510",
   "metadata": {},
   "outputs": [],
   "source": []
  }
 ],
 "metadata": {
  "kernelspec": {
   "display_name": "Python",
   "language": "python",
   "name": "conda-env-python-py"
  },
  "language_info": {
   "codemirror_mode": {
    "name": "ipython",
    "version": 3
   },
   "file_extension": ".py",
   "mimetype": "text/x-python",
   "name": "python",
   "nbconvert_exporter": "python",
   "pygments_lexer": "ipython3",
   "version": "3.6.13"
  }
 },
 "nbformat": 4,
 "nbformat_minor": 5
}
