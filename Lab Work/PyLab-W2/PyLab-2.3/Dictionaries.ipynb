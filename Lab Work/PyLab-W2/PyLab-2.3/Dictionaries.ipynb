{
 "cells": [
  {
   "cell_type": "markdown",
   "id": "3e7ac495-4bcf-4417-9831-825053cb6089",
   "metadata": {},
   "source": [
    "# Dictionaries in Python"
   ]
  },
  {
   "cell_type": "markdown",
   "id": "72963d8f-db27-4258-9e9b-667132cdde5f",
   "metadata": {},
   "source": [
    "### Quiz on Dictionaries"
   ]
  },
  {
   "cell_type": "code",
   "execution_count": 2,
   "id": "1ed0dba7-dd22-4aa0-bc80-a66e73633760",
   "metadata": {},
   "outputs": [
    {
     "data": {
      "text/plain": [
       "{'The Bodyguard': '1992', 'Saturday Night Fever': '1977'}"
      ]
     },
     "execution_count": 2,
     "metadata": {},
     "output_type": "execute_result"
    }
   ],
   "source": [
    "# Question sample dictionary\n",
    "\n",
    "soundtrack_dic = {\"The Bodyguard\":\"1992\", \"Saturday Night Fever\":\"1977\"}\n",
    "soundtrack_dic "
   ]
  },
  {
   "cell_type": "markdown",
   "id": "fb7def7c-e6ee-48fe-b192-72684839aa6f",
   "metadata": {},
   "source": [
    "a) In the dictionary <code>soundtrack_dic</code> what are the keys ?\n"
   ]
  },
  {
   "cell_type": "code",
   "execution_count": 3,
   "id": "dd175953-635d-47db-915a-424d2d7b2e8b",
   "metadata": {},
   "outputs": [
    {
     "data": {
      "text/plain": [
       "dict_keys(['The Bodyguard', 'Saturday Night Fever'])"
      ]
     },
     "execution_count": 3,
     "metadata": {},
     "output_type": "execute_result"
    }
   ],
   "source": [
    "soundtrack_dic.keys()"
   ]
  },
  {
   "cell_type": "markdown",
   "id": "2b8d1c4d-ee24-4f69-b954-f1cd4ce3ec67",
   "metadata": {},
   "source": [
    "b) In the dictionary <code>soundtrack_dic</code> what are the values ?\n"
   ]
  },
  {
   "cell_type": "code",
   "execution_count": 4,
   "id": "3c33557a-e190-462f-863c-c187d862d7b6",
   "metadata": {},
   "outputs": [
    {
     "data": {
      "text/plain": [
       "dict_values(['1992', '1977'])"
      ]
     },
     "execution_count": 4,
     "metadata": {},
     "output_type": "execute_result"
    }
   ],
   "source": [
    "soundtrack_dic.values()"
   ]
  },
  {
   "cell_type": "markdown",
   "id": "fc54fe62-d2e2-4409-b0b8-15cabbe8c981",
   "metadata": {},
   "source": [
    "The Albums <b>Back in Black</b>, <b>The Bodyguard</b> and <b>Thriller</b> have the following music recording sales in millions 50, 50 and 65 respectively:\n"
   ]
  },
  {
   "cell_type": "markdown",
   "id": "066d4bbe-dd71-48ea-8d71-33844fa36ed4",
   "metadata": {},
   "source": [
    "a) Create a dictionary <code>album_sales_dict</code> where the keys are the album name and the sales in millions are the values.\n"
   ]
  },
  {
   "cell_type": "code",
   "execution_count": 5,
   "id": "96c05d30-d5bc-4ace-9967-149d82f580c1",
   "metadata": {},
   "outputs": [],
   "source": [
    "album_sales_dict = {\"The Bodyguard\": 50, \"Back in Black\": 50, \"Thriller\": 65}"
   ]
  },
  {
   "cell_type": "markdown",
   "id": "9105a7fb-24a2-4a75-9d64-1f1104ad5d71",
   "metadata": {},
   "source": [
    "b) Use the dictionary to find the total sales of <b>Thriller</b>:\n"
   ]
  },
  {
   "cell_type": "code",
   "execution_count": 6,
   "id": "569b9a41-a867-413f-a61e-410ba0349d26",
   "metadata": {},
   "outputs": [
    {
     "data": {
      "text/plain": [
       "65"
      ]
     },
     "execution_count": 6,
     "metadata": {},
     "output_type": "execute_result"
    }
   ],
   "source": [
    "album_sales_dict[\"Thriller\"]"
   ]
  },
  {
   "cell_type": "markdown",
   "id": "0648a701-aecb-4ee7-b8aa-b4af9e0de07b",
   "metadata": {},
   "source": [
    "c) Find the names of the albums from the dictionary:\n"
   ]
  },
  {
   "cell_type": "code",
   "execution_count": 7,
   "id": "2a0303a4-6d67-400b-8f69-6c6a026b549e",
   "metadata": {},
   "outputs": [
    {
     "data": {
      "text/plain": [
       "dict_keys(['The Bodyguard', 'Back in Black', 'Thriller'])"
      ]
     },
     "execution_count": 7,
     "metadata": {},
     "output_type": "execute_result"
    }
   ],
   "source": [
    "album_sales_dict.keys()"
   ]
  },
  {
   "cell_type": "markdown",
   "id": "bc85ecb9-e076-4e34-a205-6e0c2c03a763",
   "metadata": {},
   "source": [
    "d) Find the values of the recording sales from the dictionary using the method <code>values</code>:\n"
   ]
  },
  {
   "cell_type": "code",
   "execution_count": null,
   "id": "e3c1699c-0840-4c6e-8229-1e39b73a4ae9",
   "metadata": {},
   "outputs": [],
   "source": []
  }
 ],
 "metadata": {
  "kernelspec": {
   "display_name": "Python",
   "language": "python",
   "name": "conda-env-python-py"
  },
  "language_info": {
   "codemirror_mode": {
    "name": "ipython",
    "version": 3
   },
   "file_extension": ".py",
   "mimetype": "text/x-python",
   "name": "python",
   "nbconvert_exporter": "python",
   "pygments_lexer": "ipython3",
   "version": "3.6.13"
  }
 },
 "nbformat": 4,
 "nbformat_minor": 5
}
