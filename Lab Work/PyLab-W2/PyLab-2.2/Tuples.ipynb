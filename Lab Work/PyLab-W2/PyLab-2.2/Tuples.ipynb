{
 "cells": [
  {
   "cell_type": "markdown",
   "id": "601eb0ef-7ef0-461a-bd4c-9c25194d337f",
   "metadata": {},
   "source": [
    "# Tuples in Python"
   ]
  },
  {
   "cell_type": "markdown",
   "id": "ebdb5e41-0ae6-4ec3-be00-461520fc169b",
   "metadata": {},
   "source": [
    "### Quiz on Tuples"
   ]
  },
  {
   "cell_type": "code",
   "execution_count": 3,
   "id": "3bf979ef-ef9c-4466-af01-f08f8abd51cf",
   "metadata": {},
   "outputs": [
    {
     "data": {
      "text/plain": [
       "('pop',\n",
       " 'rock',\n",
       " 'soul',\n",
       " 'hard rock',\n",
       " 'soft rock',\n",
       " 'R&B',\n",
       " 'progressive rock',\n",
       " 'disco')"
      ]
     },
     "execution_count": 3,
     "metadata": {},
     "output_type": "execute_result"
    }
   ],
   "source": [
    "# sample tuple\n",
    "\n",
    "genres_tuple = (\"pop\", \"rock\", \"soul\", \"hard rock\", \"soft rock\", \\\n",
    "                \"R&B\", \"progressive rock\", \"disco\") \n",
    "genres_tuple"
   ]
  },
  {
   "cell_type": "markdown",
   "id": "bdb71fcd-383d-406a-8e9e-fdcfccde9af4",
   "metadata": {},
   "source": [
    "Find the length of the tuple, <code>genres_tuple</code>:\n"
   ]
  },
  {
   "cell_type": "code",
   "execution_count": 4,
   "id": "18d0ab77-a357-46aa-8c32-3d3e7621b9b9",
   "metadata": {},
   "outputs": [
    {
     "data": {
      "text/plain": [
       "8"
      ]
     },
     "execution_count": 4,
     "metadata": {},
     "output_type": "execute_result"
    }
   ],
   "source": [
    "len(genres_tuple)"
   ]
  },
  {
   "cell_type": "markdown",
   "id": "bd540143-975a-417d-afa3-4695ac394c84",
   "metadata": {},
   "source": [
    "Access the element, with respect to index 3:\n"
   ]
  },
  {
   "cell_type": "code",
   "execution_count": 5,
   "id": "2d4da769-c5f2-4602-89a9-905bd6840523",
   "metadata": {},
   "outputs": [
    {
     "data": {
      "text/plain": [
       "'hard rock'"
      ]
     },
     "execution_count": 5,
     "metadata": {},
     "output_type": "execute_result"
    }
   ],
   "source": [
    "genres_tuple[3]"
   ]
  },
  {
   "cell_type": "markdown",
   "id": "1810db11-1175-4dbd-898e-5b04c38f322e",
   "metadata": {},
   "source": [
    "Obtain indexes 3, 4 and 5:\n"
   ]
  },
  {
   "cell_type": "code",
   "execution_count": 6,
   "id": "45833b27-a070-4e9d-a4f7-34cdd39e3a36",
   "metadata": {},
   "outputs": [
    {
     "data": {
      "text/plain": [
       "('hard rock', 'soft rock', 'R&B')"
      ]
     },
     "execution_count": 6,
     "metadata": {},
     "output_type": "execute_result"
    }
   ],
   "source": [
    "genres_tuple[3:6]"
   ]
  },
  {
   "cell_type": "markdown",
   "id": "edae6fcf-d6b2-4fa8-bf7b-d55fa15d8ae2",
   "metadata": {},
   "source": [
    "Use slicing to obtain indexes 3, 4 and 5:\n"
   ]
  },
  {
   "cell_type": "code",
   "execution_count": 7,
   "id": "1a04c090-d8b7-4c8d-b37c-08aea24c9ecf",
   "metadata": {},
   "outputs": [
    {
     "data": {
      "text/plain": [
       "('pop', 'rock')"
      ]
     },
     "execution_count": 7,
     "metadata": {},
     "output_type": "execute_result"
    }
   ],
   "source": [
    "genres_tuple[0:2]"
   ]
  },
  {
   "cell_type": "markdown",
   "id": "ece0d745-4197-48fb-8f37-bff512434c84",
   "metadata": {},
   "source": [
    "Find the first index of <code>\"disco\"</code>:\n"
   ]
  },
  {
   "cell_type": "code",
   "execution_count": 9,
   "id": "cdd82906-67bd-45c0-9a38-247f3423b056",
   "metadata": {},
   "outputs": [
    {
     "data": {
      "text/plain": [
       "7"
      ]
     },
     "execution_count": 9,
     "metadata": {},
     "output_type": "execute_result"
    }
   ],
   "source": [
    "genres_tuple.index(\"disco\")"
   ]
  },
  {
   "cell_type": "markdown",
   "id": "a147f7a7-bef9-4974-803b-a5f382e4864f",
   "metadata": {},
   "source": [
    "Generate a sorted List from the Tuple <code>C_tuple=(-5, 1, -3)</code>:\n"
   ]
  },
  {
   "cell_type": "code",
   "execution_count": 11,
   "id": "b9186c15-8193-4700-ad1c-1d94b98a0b86",
   "metadata": {},
   "outputs": [
    {
     "data": {
      "text/plain": [
       "[-5, -3, 1]"
      ]
     },
     "execution_count": 11,
     "metadata": {},
     "output_type": "execute_result"
    }
   ],
   "source": [
    "C_tuple = (-5, 1, -3)\n",
    "C_sorted = sorted(C_tuple)\n",
    "C_sorted"
   ]
  }
 ],
 "metadata": {
  "kernelspec": {
   "display_name": "Python",
   "language": "python",
   "name": "conda-env-python-py"
  },
  "language_info": {
   "codemirror_mode": {
    "name": "ipython",
    "version": 3
   },
   "file_extension": ".py",
   "mimetype": "text/x-python",
   "name": "python",
   "nbconvert_exporter": "python",
   "pygments_lexer": "ipython3",
   "version": "3.6.13"
  }
 },
 "nbformat": 4,
 "nbformat_minor": 5
}
