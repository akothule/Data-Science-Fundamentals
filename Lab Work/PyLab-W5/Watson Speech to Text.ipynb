{
 "cells": [
  {
   "cell_type": "markdown",
   "id": "b2461b45-64e3-4d88-bf36-0c8f2ca55cbe",
   "metadata": {},
   "source": [
    "# Watson Speech to Text\n",
    "Author: Ayush Kothule\n",
    "\n",
    "This Jupyter Notebook uses Python library `ibm_watson` to convert audio files into text.\n",
    "\n",
    "### Requirements:\n",
    "1. speech_to_text_api_url: provide API url for IBM Watson speech to text service\n",
    "2. speech_to_text_api_key: provide API Key for IBM Watson speech to text service\n",
    "3. We'll download a sample audio file https://raw.githubusercontent.com/akothule/Data-Science-Fundamentals/main/samples/ClimateChangeInGreatBarrierReef.flac. We'll use IBM Watson service to transcribe this audio file into text"
   ]
  },
  {
   "cell_type": "code",
   "execution_count": 44,
   "id": "7d1ebe2d-6025-4c2c-8e67-4b2cc92a20a3",
   "metadata": {},
   "outputs": [],
   "source": [
    "speech_to_text_api_url = \"https://api.us-south.speech-to-text.watson.cloud.ibm.com/\"\n",
    "speech_to_text_api_key = \"\"\n"
   ]
  },
  {
   "cell_type": "code",
   "execution_count": 45,
   "id": "e82af58f-a2ea-4c87-bc60-b0bca3bc5119",
   "metadata": {},
   "outputs": [
    {
     "name": "stdout",
     "output_type": "stream",
     "text": [
      "Requirement already satisfied: ibm_watson in /home/jupyterlab/conda/envs/python/lib/python3.6/site-packages (5.2.2)\n",
      "Requirement already satisfied: wget in /home/jupyterlab/conda/envs/python/lib/python3.6/site-packages (3.2)\n",
      "Requirement already satisfied: python-dateutil>=2.5.3 in /home/jupyterlab/conda/envs/python/lib/python3.6/site-packages (from ibm_watson) (2.8.1)\n",
      "Requirement already satisfied: ibm-cloud-sdk-core==3.*,>=3.3.6 in /home/jupyterlab/conda/envs/python/lib/python3.6/site-packages (from ibm_watson) (3.10.0)\n",
      "Requirement already satisfied: websocket-client==1.1.0 in /home/jupyterlab/conda/envs/python/lib/python3.6/site-packages (from ibm_watson) (1.1.0)\n",
      "Requirement already satisfied: requests<3.0,>=2.0 in /home/jupyterlab/conda/envs/python/lib/python3.6/site-packages (from ibm_watson) (2.25.1)\n",
      "Requirement already satisfied: six>=1.5 in /home/jupyterlab/conda/envs/python/lib/python3.6/site-packages (from python-dateutil>=2.5.3->ibm_watson) (1.16.0)\n",
      "Requirement already satisfied: PyJWT<3.0.0,>=2.0.1 in /home/jupyterlab/conda/envs/python/lib/python3.6/site-packages (from ibm-cloud-sdk-core==3.*,>=3.3.6->ibm_watson) (2.1.0)\n",
      "Requirement already satisfied: idna<3,>=2.5 in /home/jupyterlab/conda/envs/python/lib/python3.6/site-packages (from requests<3.0,>=2.0->ibm_watson) (2.10)\n",
      "Requirement already satisfied: urllib3<1.27,>=1.21.1 in /home/jupyterlab/conda/envs/python/lib/python3.6/site-packages (from requests<3.0,>=2.0->ibm_watson) (1.26.5)\n",
      "Requirement already satisfied: certifi>=2017.4.17 in /home/jupyterlab/conda/envs/python/lib/python3.6/site-packages (from requests<3.0,>=2.0->ibm_watson) (2020.12.5)\n",
      "Requirement already satisfied: chardet<5,>=3.0.2 in /home/jupyterlab/conda/envs/python/lib/python3.6/site-packages (from requests<3.0,>=2.0->ibm_watson) (4.0.0)\n",
      "--2021-07-06 19:09:45--  https://raw.githubusercontent.com/akothule/Data-Science-Fundamentals/main/samples/ClimateChangeInGreatBarrierReef.flac\n",
      "Resolving raw.githubusercontent.com (raw.githubusercontent.com)... 185.199.111.133, 185.199.109.133, 185.199.108.133, ...\n",
      "Connecting to raw.githubusercontent.com (raw.githubusercontent.com)|185.199.111.133|:443... connected.\n",
      "HTTP request sent, awaiting response... 200 OK\n",
      "Length: 1409291 (1.3M) [audio/flac]\n",
      "Saving to: ‘climate_change_in_great_barrier_reef.flac’\n",
      "\n",
      "climate_change_in_g 100%[===================>]   1.34M  --.-KB/s    in 0.007s  \n",
      "\n",
      "2021-07-06 19:09:46 (194 MB/s) - ‘climate_change_in_great_barrier_reef.flac’ saved [1409291/1409291]\n",
      "\n"
     ]
    }
   ],
   "source": [
    "# install wget and download sample audio file\n",
    "!pip install ibm_watson wget\n",
    "\n",
    "# download the sample audio file\n",
    "!wget -O climate_change_in_great_barrier_reef.flac \"https://raw.githubusercontent.com/akothule/Data-Science-Fundamentals/main/samples/ClimateChangeInGreatBarrierReef.flac\"\n",
    "\n",
    "#store audio file name\n",
    "audio_file_name = \"climate_change_in_great_barrier_reef.flac\""
   ]
  },
  {
   "cell_type": "code",
   "execution_count": 46,
   "id": "bd2aed9c-decf-4878-9e5c-5900c300421c",
   "metadata": {},
   "outputs": [],
   "source": [
    "# import watson speech to text service and json libraries\n",
    "from ibm_watson import SpeechToTextV1\n",
    "from ibm_cloud_sdk_core.authenticators import IAMAuthenticator\n",
    "\n",
    "authenticator = IAMAuthenticator(speech_to_text_api_key)\n",
    "speech_to_text = SpeechToTextV1(\n",
    "    authenticator=authenticator\n",
    ")\n",
    "\n",
    "speech_to_text.set_service_url(speech_to_text_api_url)"
   ]
  },
  {
   "cell_type": "code",
   "execution_count": 47,
   "id": "eeb73d6f-fc03-4814-9a6c-61e8f2bfb2a0",
   "metadata": {},
   "outputs": [
    {
     "data": {
      "text/plain": [
       "{'result_index': 0,\n",
       " 'results': [{'final': True,\n",
       "   'alternatives': [{'transcript': 'climate change in the Great Barrier Reef the oceans will start to get warmer and acidify destroying the coral coral will also start to bleach the climate change will cause more extreme storms we can destroy the coral ',\n",
       "     'confidence': 0.88}]}]}"
      ]
     },
     "execution_count": 47,
     "metadata": {},
     "output_type": "execute_result"
    }
   ],
   "source": [
    "# open audio file and recognize api on speech to text service\n",
    "with open(audio_file_name, mode=\"rb\")  as wav:\n",
    "    response = s2t.recognize(audio=wav, content_type='audio/flac')\n",
    "\n",
    "#\n",
    "response.result"
   ]
  },
  {
   "cell_type": "code",
   "execution_count": 52,
   "id": "73866935-fafd-4634-8864-52e638955998",
   "metadata": {},
   "outputs": [
    {
     "name": "stdout",
     "output_type": "stream",
     "text": [
      "Recognized Text from Audio: climate change in the Great Barrier Reef the oceans will start to get warmer and acidify destroying the coral coral will also start to bleach the climate change will cause more extreme storms we can destroy the coral \n",
      "Confidence Level: 88.0 %\n"
     ]
    }
   ],
   "source": [
    "# response.result contains the json object returned by speech to text service. We'll process the response using json and pandas library\n",
    "import json\n",
    "from pandas import json_normalize\n",
    "\n",
    "json_normalize(response.result['results'],\"alternatives\")\n",
    "\n",
    "# print response\n",
    "response\n",
    "\n",
    "recognized_text = response.result['results'][0][\"alternatives\"][0][\"transcript\"]\n",
    "confidence = response.result['results'][0][\"alternatives\"][0][\"confidence\"]\n",
    "#print recognized text\n",
    "print (\"Recognized Text from Audio:\", recognized_text)\n",
    "print (\"Confidence Level:\", confidence * 100, \"%\")\n"
   ]
  },
  {
   "cell_type": "code",
   "execution_count": null,
   "id": "e913698a-4974-4b4d-9de7-3304aa8f958e",
   "metadata": {},
   "outputs": [],
   "source": []
  }
 ],
 "metadata": {
  "kernelspec": {
   "display_name": "Python",
   "language": "python",
   "name": "conda-env-python-py"
  },
  "language_info": {
   "codemirror_mode": {
    "name": "ipython",
    "version": 3
   },
   "file_extension": ".py",
   "mimetype": "text/x-python",
   "name": "python",
   "nbconvert_exporter": "python",
   "pygments_lexer": "ipython3",
   "version": "3.6.13"
  }
 },
 "nbformat": 4,
 "nbformat_minor": 5
}
