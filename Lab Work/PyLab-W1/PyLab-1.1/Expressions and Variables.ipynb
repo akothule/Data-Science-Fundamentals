{
 "cells": [
  {
   "cell_type": "markdown",
   "id": "4ab0cbd8-89d0-4c47-8710-f6cab846bdec",
   "metadata": {},
   "source": [
    "# Expressions and Variables"
   ]
  },
  {
   "cell_type": "markdown",
   "id": "ddaca697-a6f1-463c-88d8-794c92362e97",
   "metadata": {},
   "source": [
    "## Exercise: Your First Program"
   ]
  },
  {
   "cell_type": "code",
   "execution_count": 6,
   "id": "a83f4389-6ea8-4c80-99aa-961b4500bf0e",
   "metadata": {},
   "outputs": [
    {
     "name": "stdout",
     "output_type": "stream",
     "text": [
      "Hello, Python!\n"
     ]
    }
   ],
   "source": [
    "print(\"Hello, Python!\")"
   ]
  },
  {
   "cell_type": "code",
   "execution_count": 8,
   "id": "cf55fdd7-1ddb-43de-b34a-f53507fdc2c1",
   "metadata": {},
   "outputs": [
    {
     "name": "stdout",
     "output_type": "stream",
     "text": [
      "Hello, Python\n"
     ]
    }
   ],
   "source": [
    "print(\"Hello, Python\") # Print the traditional hello world"
   ]
  },
  {
   "cell_type": "code",
   "execution_count": 49,
   "id": "9111d7a9-1950-41ee-93b2-72a66d3ec6f8",
   "metadata": {},
   "outputs": [
    {
     "data": {
      "text/plain": [
       "float"
      ]
     },
     "execution_count": 49,
     "metadata": {},
     "output_type": "execute_result"
    }
   ],
   "source": [
    "type(12.0)"
   ]
  },
  {
   "cell_type": "markdown",
   "id": "961c2204-3221-48d2-bba3-0b76f1a3c12a",
   "metadata": {},
   "source": [
    "## Exercise: Types"
   ]
  },
  {
   "cell_type": "code",
   "execution_count": 53,
   "id": "c0bda93b-5a78-4723-8a7a-a249a0282c5f",
   "metadata": {},
   "outputs": [
    {
     "data": {
      "text/plain": [
       "float"
      ]
     },
     "execution_count": 53,
     "metadata": {},
     "output_type": "execute_result"
    }
   ],
   "source": [
    "type(6/2) # float"
   ]
  },
  {
   "cell_type": "code",
   "execution_count": 54,
   "id": "a4fc3f60-142e-45ee-9214-7d1fc143def3",
   "metadata": {},
   "outputs": [
    {
     "data": {
      "text/plain": [
       "int"
      ]
     },
     "execution_count": 54,
     "metadata": {},
     "output_type": "execute_result"
    }
   ],
   "source": [
    "type(6//2) # int"
   ]
  },
  {
   "cell_type": "markdown",
   "id": "7e0e5b75-ef22-4229-afc3-1b03a30f2e0d",
   "metadata": {},
   "source": [
    "## Exercise: Expression"
   ]
  },
  {
   "cell_type": "code",
   "execution_count": 55,
   "id": "84045aac-6be0-4853-9edb-9702e19b5ea7",
   "metadata": {},
   "outputs": [
    {
     "data": {
      "text/plain": [
       "2.6666666666666665"
      ]
     },
     "execution_count": 55,
     "metadata": {},
     "output_type": "execute_result"
    }
   ],
   "source": [
    "160/60"
   ]
  },
  {
   "cell_type": "markdown",
   "id": "9fae7349-f22f-4cca-af9e-6547e13d3a21",
   "metadata": {},
   "source": [
    "## Exercise: Expression and Variables in Python"
   ]
  },
  {
   "cell_type": "code",
   "execution_count": 56,
   "id": "2cdd38e4-944c-4545-b7f0-f316c0422485",
   "metadata": {},
   "outputs": [
    {
     "data": {
      "text/plain": [
       "7"
      ]
     },
     "execution_count": 56,
     "metadata": {},
     "output_type": "execute_result"
    }
   ],
   "source": [
    "x = 3 + 2 * 2\n",
    "# x = 7\n",
    "x"
   ]
  },
  {
   "cell_type": "code",
   "execution_count": 57,
   "id": "6f79764b-59ba-4f67-a31c-ba5acd561ff1",
   "metadata": {},
   "outputs": [
    {
     "data": {
      "text/plain": [
       "10"
      ]
     },
     "execution_count": 57,
     "metadata": {},
     "output_type": "execute_result"
    }
   ],
   "source": [
    "y = (3 + 2) * 2\n",
    "# y = 10\n",
    "y"
   ]
  },
  {
   "cell_type": "code",
   "execution_count": 58,
   "id": "e8347385-903e-461d-abe1-a1d05ee93940",
   "metadata": {},
   "outputs": [
    {
     "data": {
      "text/plain": [
       "17"
      ]
     },
     "execution_count": 58,
     "metadata": {},
     "output_type": "execute_result"
    }
   ],
   "source": [
    "z = x + y\n",
    "# z = 17\n",
    "z"
   ]
  }
 ],
 "metadata": {
  "kernelspec": {
   "display_name": "Python",
   "language": "python",
   "name": "conda-env-python-py"
  },
  "language_info": {
   "codemirror_mode": {
    "name": "ipython",
    "version": 3
   },
   "file_extension": ".py",
   "mimetype": "text/x-python",
   "name": "python",
   "nbconvert_exporter": "python",
   "pygments_lexer": "ipython3",
   "version": "3.6.13"
  }
 },
 "nbformat": 4,
 "nbformat_minor": 5
}
